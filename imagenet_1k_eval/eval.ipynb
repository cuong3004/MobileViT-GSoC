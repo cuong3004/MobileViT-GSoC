{
  "nbformat": 4,
  "nbformat_minor": 0,
  "metadata": {
    "colab": {
      "provenance": [],
      "collapsed_sections": []
    },
    "kernelspec": {
      "name": "python3",
      "display_name": "Python 3"
    },
    "language_info": {
      "name": "python"
    },
    "accelerator": "GPU",
    "gpuClass": "premium"
  },
  "cells": [
    {
      "cell_type": "markdown",
      "source": [
        "# Evaluation Notebook\n",
        "\n",
        "**Author**: [Sayan Nath](https://twitter.com/sayannath2350)\n",
        "\n",
        "**Description**: In this notebook, I have evaluated all the variants of the MobileViT model using the ImageNet-1k validation set."
      ],
      "metadata": {
        "id": "mubJxmdaMenl"
      }
    },
    {
      "cell_type": "markdown",
      "source": [
        "## Initial-setup"
      ],
      "metadata": {
        "id": "pLTYhJ0iL9oL"
      }
    },
    {
      "cell_type": "code",
      "source": [
        "!nvidia-smi"
      ],
      "metadata": {
        "id": "baDL_iqMvgpC",
        "colab": {
          "base_uri": "https://localhost:8080/"
        },
        "outputId": "8e9dd3bd-c9b1-4f01-f621-9365f4aa4233"
      },
      "execution_count": 1,
      "outputs": [
        {
          "output_type": "stream",
          "name": "stdout",
          "text": [
            "Sun Oct  9 01:04:53 2022       \n",
            "+-----------------------------------------------------------------------------+\n",
            "| NVIDIA-SMI 460.32.03    Driver Version: 460.32.03    CUDA Version: 11.2     |\n",
            "|-------------------------------+----------------------+----------------------+\n",
            "| GPU  Name        Persistence-M| Bus-Id        Disp.A | Volatile Uncorr. ECC |\n",
            "| Fan  Temp  Perf  Pwr:Usage/Cap|         Memory-Usage | GPU-Util  Compute M. |\n",
            "|                               |                      |               MIG M. |\n",
            "|===============================+======================+======================|\n",
            "|   0  A100-SXM4-40GB      Off  | 00000000:00:04.0 Off |                    0 |\n",
            "| N/A   30C    P0    44W / 400W |      0MiB / 40536MiB |      0%      Default |\n",
            "|                               |                      |             Disabled |\n",
            "+-------------------------------+----------------------+----------------------+\n",
            "                                                                               \n",
            "+-----------------------------------------------------------------------------+\n",
            "| Processes:                                                                  |\n",
            "|  GPU   GI   CI        PID   Type   Process name                  GPU Memory |\n",
            "|        ID   ID                                                   Usage      |\n",
            "|=============================================================================|\n",
            "|  No running processes found                                                 |\n",
            "+-----------------------------------------------------------------------------+\n"
          ]
        }
      ]
    },
    {
      "cell_type": "markdown",
      "source": [
        "## Imports"
      ],
      "metadata": {
        "id": "Up91cfjDMBcm"
      }
    },
    {
      "cell_type": "code",
      "source": [
        "from tensorflow.keras import layers\n",
        "from tensorflow import keras\n",
        "import tensorflow_hub as hub\n",
        "import tensorflow as tf\n",
        "\n",
        "from imutils import paths\n",
        "import json\n",
        "import re"
      ],
      "metadata": {
        "id": "en2LUmqP5faR"
      },
      "execution_count": 2,
      "outputs": []
    },
    {
      "cell_type": "markdown",
      "source": [
        "## Constants"
      ],
      "metadata": {
        "id": "Sxlca5oJMEIf"
      }
    },
    {
      "cell_type": "code",
      "source": [
        "AUTO = tf.data.AUTOTUNE\n",
        "BATCH_SIZE = 256\n",
        "IMAGE_SIZE = 256\n",
        "TF_MODEL_ROOT = \"/content/mobilevit_models\" # You can easily download the models from TensorFlow Hub."
      ],
      "metadata": {
        "id": "lydw_owV7URR"
      },
      "execution_count": 3,
      "outputs": []
    },
    {
      "cell_type": "markdown",
      "source": [
        "## Set up ImageNet-1k labels"
      ],
      "metadata": {
        "id": "4s5YA21hMIxX"
      }
    },
    {
      "cell_type": "code",
      "source": [
        "with open(\"imagenet_class_index.json\", \"r\") as read_file:\n",
        "    imagenet_labels = json.load(read_file)\n",
        "\n",
        "MAPPING_DICT = {}\n",
        "LABEL_NAMES = {}\n",
        "for label_id in list(imagenet_labels.keys()):\n",
        "    MAPPING_DICT[imagenet_labels[label_id][0]] = int(label_id)\n",
        "    LABEL_NAMES[int(label_id)] = imagenet_labels[label_id][1]"
      ],
      "metadata": {
        "id": "OVFn7Izl7ZYO"
      },
      "execution_count": 4,
      "outputs": []
    },
    {
      "cell_type": "code",
      "source": [
        "all_val_paths = list(paths.list_images(\"val\"))\n",
        "all_val_labels = [MAPPING_DICT[x.split(\"/\")[1]] for x in all_val_paths]\n",
        "\n",
        "all_val_paths[:5], all_val_labels[:5]"
      ],
      "metadata": {
        "colab": {
          "base_uri": "https://localhost:8080/"
        },
        "id": "UmpF9nxM7bs5",
        "outputId": "37baf8a2-078a-43b7-879b-a104df0a81a0"
      },
      "execution_count": 12,
      "outputs": [
        {
          "output_type": "execute_result",
          "data": {
            "text/plain": [
              "(['val/n03982430/ILSVRC2012_val_00022228.JPEG',\n",
              "  'val/n03982430/ILSVRC2012_val_00037815.JPEG',\n",
              "  'val/n03982430/ILSVRC2012_val_00022594.JPEG',\n",
              "  'val/n03982430/ILSVRC2012_val_00044617.JPEG',\n",
              "  'val/n03982430/ILSVRC2012_val_00029955.JPEG'],\n",
              " [736, 736, 736, 736, 736])"
            ]
          },
          "metadata": {},
          "execution_count": 12
        }
      ]
    },
    {
      "cell_type": "markdown",
      "source": [
        "## Preprocessing utilities"
      ],
      "metadata": {
        "id": "YtdOiC0AMNh1"
      }
    },
    {
      "cell_type": "code",
      "source": [
        "def load_and_prepare(path, label):\n",
        "    image = tf.io.read_file(path)\n",
        "    image = tf.image.decode_png(image, channels=3)\n",
        "    image = tf.image.resize(image, (288, 288), method=\"bilinear\")\n",
        "    image = image / 255\n",
        "    return image, label"
      ],
      "metadata": {
        "id": "n_OjrH479-mI"
      },
      "execution_count": 6,
      "outputs": []
    },
    {
      "cell_type": "code",
      "source": [
        "def get_preprocessing_model(input_size=256):\n",
        "    preprocessing_model = keras.Sequential()\n",
        "    preprocessing_model.add(layers.CenterCrop(input_size, input_size))\n",
        "    return preprocessing_model"
      ],
      "metadata": {
        "id": "1lFSR7gD-CMk"
      },
      "execution_count": 7,
      "outputs": []
    },
    {
      "cell_type": "markdown",
      "source": [
        "## Prepare `tf.data.Dataset`"
      ],
      "metadata": {
        "id": "MJwevtU_MvAv"
      }
    },
    {
      "cell_type": "code",
      "source": [
        "preprocessor = get_preprocessing_model()\n",
        "\n",
        "dataset = tf.data.Dataset.from_tensor_slices((all_val_paths, all_val_labels))\n",
        "dataset = dataset.map(load_and_prepare, num_parallel_calls=AUTO).batch(BATCH_SIZE)\n",
        "dataset = dataset.map(lambda x, y: (preprocessor(x), y), num_parallel_calls=AUTO)\n",
        "dataset = dataset.prefetch(AUTO)\n",
        "dataset.element_spec"
      ],
      "metadata": {
        "colab": {
          "base_uri": "https://localhost:8080/"
        },
        "id": "wELvpmhG-NPH",
        "outputId": "e4510354-5dbf-45bd-9e5e-33fbacf4ddeb"
      },
      "execution_count": 8,
      "outputs": [
        {
          "output_type": "execute_result",
          "data": {
            "text/plain": [
              "(TensorSpec(shape=(None, 256, 256, 3), dtype=tf.float32, name=None),\n",
              " TensorSpec(shape=(None,), dtype=tf.int32, name=None))"
            ]
          },
          "metadata": {},
          "execution_count": 8
        }
      ]
    },
    {
      "cell_type": "markdown",
      "source": [
        "## Fetch model paths "
      ],
      "metadata": {
        "id": "PlyKftJsRn26"
      }
    },
    {
      "cell_type": "code",
      "source": [
        "i1k_paths = tf.io.gfile.listdir(TF_MODEL_ROOT)\n",
        "print(i1k_paths)"
      ],
      "metadata": {
        "colab": {
          "base_uri": "https://localhost:8080/"
        },
        "id": "qYrZviqu-Pwk",
        "outputId": "51b6fa5c-b37a-46e2-fccc-c75e24698237"
      },
      "execution_count": 9,
      "outputs": [
        {
          "output_type": "stream",
          "name": "stdout",
          "text": [
            "['mobilevit_xxs_1k_256', 'mobilevit_s_1k_256', 'mobilevit_xs_1k_256']\n"
          ]
        }
      ]
    },
    {
      "cell_type": "markdown",
      "source": [
        "## Run evaluation"
      ],
      "metadata": {
        "id": "L4IQzrbuMZmh"
      }
    },
    {
      "cell_type": "code",
      "source": [
        "def get_model(model_url):\n",
        "    classification_model = tf.keras.Sequential(\n",
        "        [\n",
        "            layers.InputLayer((256, 256, 3)),\n",
        "            hub.KerasLayer(model_url),\n",
        "        ]\n",
        "    )\n",
        "    return classification_model\n",
        "\n",
        "\n",
        "def evaluate_model(model_name):\n",
        "    tb_callback = tf.keras.callbacks.TensorBoard(log_dir=f\"./logs/logs_{model_name}\")\n",
        "    model_url = TF_MODEL_ROOT + \"/\" + model_name\n",
        "    \n",
        "    model = get_model(model_url)\n",
        "    model.compile(metrics=[\"accuracy\"])\n",
        "    _, accuracy = model.evaluate(dataset, callbacks=[tb_callback])\n",
        "    accuracy = round(accuracy * 100, 4)\n",
        "    print(f\"{model_name}: {accuracy}%.\", file=open(f\"{model_name.strip('/')}.txt\", \"w\"))"
      ],
      "metadata": {
        "id": "V6sdDwHX-Y94"
      },
      "execution_count": 10,
      "outputs": []
    },
    {
      "cell_type": "code",
      "source": [
        "for i1k_path in i1k_paths:\n",
        "    print(f\"Evaluating {i1k_path}.\")\n",
        "    evaluate_model(i1k_path)"
      ],
      "metadata": {
        "colab": {
          "base_uri": "https://localhost:8080/"
        },
        "id": "EIFzbdMY-dHg",
        "outputId": "d1fd3ccf-1002-4cf7-8338-85d63f202f30"
      },
      "execution_count": 11,
      "outputs": [
        {
          "output_type": "stream",
          "name": "stdout",
          "text": [
            "Evaluating mobilevit_xxs_1k_256.\n",
            "196/196 [==============================] - 37s 159ms/step - loss: 0.0000e+00 - accuracy: 0.6859\n",
            "Evaluating mobilevit_s_1k_256.\n",
            "196/196 [==============================] - 58s 279ms/step - loss: 0.0000e+00 - accuracy: 0.7836\n",
            "Evaluating mobilevit_xs_1k_256.\n",
            "196/196 [==============================] - 48s 235ms/step - loss: 0.0000e+00 - accuracy: 0.7467\n"
          ]
        }
      ]
    },
    {
      "cell_type": "markdown",
      "source": [
        "## Results"
      ],
      "metadata": {
        "id": "FL8CItusMbce"
      }
    },
    {
      "cell_type": "markdown",
      "source": [
        "|      name     | original acc@1 | keras acc@1 |\n",
        "|:-------------:|:--------------:|:-----------:|\n",
        "| MobileViT_XXS |      69.0      |    68.59    |\n",
        "|  MobileViT_XS |      74.7      |    74.67    |\n",
        "|  MobileViT_S  |      78.3      |    78.36    |"
      ],
      "metadata": {
        "id": "24BIQbmUCi13"
      }
    }
  ]
}